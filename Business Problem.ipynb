{
 "cells": [
  {
   "cell_type": "markdown",
   "metadata": {},
   "source": [
    "# Business Problem"
   ]
  },
  {
   "cell_type": "markdown",
   "metadata": {},
   "source": [
    "According to the HK Census and Statistics Department, overall HK restaurant earnings recorded strong decline of 29.4% growth to HK$79.4 billion due to the Covid-19 pandemic and sweeping social-distancing regulations.\n",
    "\n",
    "Despite this, Hong Kongers cannot resist eating out and we would like to tap into this market and get ready the post Covid-19.\n",
    "\n",
    "In order to launch a successful business we need to plan carefully beforehand, which is the location, location and location.\n",
    "\n",
    "With Blue Ocean Strategy in mind, we will identify the existing gap to see if there are competition in the neighborhoods.\n",
    "\n",
    "Positioned to general consumer, we aim to open a valued Fast Food Restaurant to the neighborhoods where are located in the remote HK district Tuen Mun, Hong Kong.\n",
    "Hong Kong is divided into 431 District Council Constituency Areas under 18 Districts.  "
   ]
  },
  {
   "cell_type": "markdown",
   "metadata": {},
   "source": [
    "# Data"
   ]
  },
  {
   "cell_type": "markdown",
   "metadata": {},
   "source": [
    "Data source: HK Open data \"https://data.gov.hk/en/\"\n",
    "it is used to identify demand based on people lives in the estates.\n",
    "\n",
    "Data source : Fousquare API : \"https://developer.foursquare.com/\"\n",
    "It is used to fetch all the venues in each neighborhood so that we could identify if there are major competition."
   ]
  }
 ],
 "metadata": {
  "kernelspec": {
   "display_name": "Python 3",
   "language": "python",
   "name": "python3"
  },
  "language_info": {
   "codemirror_mode": {
    "name": "ipython",
    "version": 3
   },
   "file_extension": ".py",
   "mimetype": "text/x-python",
   "name": "python",
   "nbconvert_exporter": "python",
   "pygments_lexer": "ipython3",
   "version": "3.8.8"
  }
 },
 "nbformat": 4,
 "nbformat_minor": 4
}
